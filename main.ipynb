{
 "cells": [
  {
   "cell_type": "code",
   "execution_count": 1,
   "id": "819013f9-c2c1-4779-ada2-cc6d5461cdad",
   "metadata": {},
   "outputs": [
    {
     "name": "stderr",
     "output_type": "stream",
     "text": [
      "2023-11-26 10:06:24.090263: I tensorflow/tsl/cuda/cudart_stub.cc:28] Could not find cuda drivers on your machine, GPU will not be used.\n",
      "2023-11-26 10:06:24.129716: I tensorflow/tsl/cuda/cudart_stub.cc:28] Could not find cuda drivers on your machine, GPU will not be used.\n",
      "2023-11-26 10:06:24.130939: I tensorflow/core/platform/cpu_feature_guard.cc:182] This TensorFlow binary is optimized to use available CPU instructions in performance-critical operations.\n",
      "To enable the following instructions: AVX2 FMA, in other operations, rebuild TensorFlow with the appropriate compiler flags.\n",
      "2023-11-26 10:06:24.877192: W tensorflow/compiler/tf2tensorrt/utils/py_utils.cc:38] TF-TRT Warning: Could not find TensorRT\n",
      "/home/pfeilbr/.local/share/virtualenvs/vectordb-playground-68Hj-Oe4/lib/python3.8/site-packages/tqdm/auto.py:21: TqdmWarning: IProgress not found. Please update jupyter and ipywidgets. See https://ipywidgets.readthedocs.io/en/stable/user_install.html\n",
      "  from .autonotebook import tqdm as notebook_tqdm\n"
     ]
    },
    {
     "name": "stdout",
     "output_type": "stream",
     "text": [
      "Warning: mrpt could not be imported. Install with 'pip install git+https://github.com/vioshyvo/mrpt/'. Falling back to Faiss.\n",
      "Initiliazing embeddings:  normal\n"
     ]
    },
    {
     "name": "stderr",
     "output_type": "stream",
     "text": [
      ".gitattributes: 100%|███████████████████████████████████████████| 1.52k/1.52k [00:00<00:00, 381kB/s]\n",
      "1_Pooling/config.json: 100%|███████████████████████████████████████| 190/190 [00:00<00:00, 57.4kB/s]\n",
      "README.md: 100%|████████████████████████████████████████████████| 90.3k/90.3k [00:00<00:00, 584kB/s]\n",
      "config.json: 100%|██████████████████████████████████████████████████| 743/743 [00:00<00:00, 775kB/s]\n",
      "config_sentence_transformers.json: 100%|███████████████████████████| 124/124 [00:00<00:00, 98.2kB/s]\n",
      "pytorch_model.bin: 100%|█████████████████████████████████████████| 134M/134M [00:15<00:00, 8.48MB/s]\n",
      "sentence_bert_config.json: 100%|█████████████████████████████████| 52.0/52.0 [00:00<00:00, 40.1kB/s]\n",
      "special_tokens_map.json: 100%|█████████████████████████████████████| 125/125 [00:00<00:00, 78.6kB/s]\n",
      "tokenizer.json: 100%|████████████████████████████████████████████| 711k/711k [00:00<00:00, 11.6MB/s]\n",
      "tokenizer_config.json: 100%|████████████████████████████████████████| 366/366 [00:00<00:00, 168kB/s]\n",
      "vocab.txt: 100%|█████████████████████████████████████████████████| 232k/232k [00:00<00:00, 10.7MB/s]\n",
      "modules.json: 100%|█████████████████████████████████████████████████| 349/349 [00:00<00:00, 303kB/s]\n"
     ]
    },
    {
     "name": "stdout",
     "output_type": "stream",
     "text": [
      "OK.\n"
     ]
    },
    {
     "data": {
      "text/plain": [
       "[{'chunk': 'apples are green',\n",
       "  'metadata': {'url': 'https://apples.com'},\n",
       "  'distance': 0.40612578}]"
      ]
     },
     "execution_count": 1,
     "metadata": {},
     "output_type": "execute_result"
    }
   ],
   "source": [
    "from vectordb import Memory\n",
    "\n",
    "# Memory is where all content you want to store/search goes.\n",
    "memory = Memory()\n",
    "\n",
    "memory.save(\n",
    "    [\"apples are green\", \"oranges are orange\"],  # save your text content. for long text we will automatically chunk it\n",
    "    [{\"url\": \"https://apples.com\"}, {\"url\": \"https://oranges.com\"}], # associate any kind of metadata with it (optional)\n",
    ")\n",
    "\n",
    "# Search for top n relevant results, automatically using embeddings\n",
    "query = \"green\"\n",
    "results = memory.search(query, top_n = 1)\n",
    "\n",
    "results"
   ]
  },
  {
   "cell_type": "code",
   "execution_count": 2,
   "id": "a3e9f249-45aa-4984-8255-ff902c20b6ec",
   "metadata": {},
   "outputs": [
    {
     "name": "stdout",
     "output_type": "stream",
     "text": [
      "Initiliazing embeddings:  TaylorAI/bge-micro-v2\n"
     ]
    },
    {
     "name": "stderr",
     "output_type": "stream",
     "text": [
      ".gitattributes: 100%|██████████████████████████████████████████| 1.52k/1.52k [00:00<00:00, 1.55MB/s]\n",
      "1_Pooling/config.json: 100%|████████████████████████████████████████| 190/190 [00:00<00:00, 142kB/s]\n",
      "README.md: 100%|███████████████████████████████████████████████| 65.5k/65.5k [00:00<00:00, 6.26MB/s]\n",
      "added_tokens.json: 100%|█████████████████████████████████████████| 82.0/82.0 [00:00<00:00, 77.8kB/s]\n",
      "config.json: 100%|██████████████████████████████████████████████████| 745/745 [00:00<00:00, 657kB/s]\n",
      "config_sentence_transformers.json: 100%|████████████████████████████| 123/123 [00:00<00:00, 123kB/s]\n",
      "model.onnx: 100%|██████████████████████████████████████████████| 69.0M/69.0M [00:08<00:00, 8.25MB/s]\n",
      "model_quantized.onnx: 100%|████████████████████████████████████| 17.4M/17.4M [00:01<00:00, 9.61MB/s]\n",
      "pytorch_model.bin: 100%|███████████████████████████████████████| 34.8M/34.8M [00:03<00:00, 9.45MB/s]\n",
      "sentence_bert_config.json: 100%|█████████████████████████████████| 53.0/53.0 [00:00<00:00, 38.4kB/s]\n",
      "special_tokens_map.json: 100%|██████████████████████████████████████| 228/228 [00:00<00:00, 187kB/s]\n",
      "tokenizer.json: 100%|████████████████████████████████████████████| 712k/712k [00:00<00:00, 11.5MB/s]\n",
      "tokenizer_config.json: 100%|███████████████████████████████████| 1.56k/1.56k [00:00<00:00, 1.03MB/s]\n",
      "vocab.txt: 100%|█████████████████████████████████████████████████| 232k/232k [00:00<00:00, 3.27MB/s]\n",
      "modules.json: 100%|█████████████████████████████████████████████████| 229/229 [00:00<00:00, 195kB/s]\n"
     ]
    },
    {
     "name": "stdout",
     "output_type": "stream",
     "text": [
      "OK.\n"
     ]
    },
    {
     "data": {
      "text/plain": [
       "[{'chunk': 'Artificial intelligence (AI) is the simulation of human intelligence in machines that are programmed to think like humans and mimic their actions. The term may also be applied to any machine that exhibits traits associated with a human mind such as learning and problem-solving. AI research has been highly successful in developing effective techniques for solving a wide range of problems, from game playing to medical diagnosis. However, there is still a long way to go before AI can truly match the intelligence of humans. One of the main challenges is that human intelligence is incredibly complex and poorly understood. Despite the challenges, AI is a rapidly growing field with the potential to revolutionize many aspects of our lives. Some of the potential benefits of AI include: Increased',\n",
       "  'metadata': {'title': 'Introduction to Artificial Intelligence',\n",
       "   'url': 'https://example.com/introduction-to-artificial-intelligence'},\n",
       "  'distance': 15.943777},\n",
       " {'chunk': 'Machine learning is a method of data analysis that automates analytical model building. It is a branch of artificial intelligence based on the idea that systems can learn from data, identify patterns and make decisions with minimal human intervention. Machine learning algorithms are trained on data sets that contain examples of the desired output. For example, a machine learning algorithm that is used to classify images might be trained on a data set that contains images of cats and dogs. Once an algorithm is trained, it can be used to make predictions on new data. For example, the machine learning algorithm that is used to classify images could be used to predict whether a new image contains a cat or a dog. Machine learning algorithms can be used',\n",
       "  'metadata': {'title': 'Introduction to Machine Learning',\n",
       "   'url': 'https://example.com/introduction-to-machine-learning'},\n",
       "  'distance': 16.750988}]"
      ]
     },
     "execution_count": 2,
     "metadata": {},
     "output_type": "execute_result"
    }
   ],
   "source": [
    "from vectordb import Memory\n",
    "\n",
    "memory = Memory(\n",
    "    chunking_strategy={\"mode\": \"sliding_window\", \"window_size\": 128, \"overlap\": 16}, embeddings='TaylorAI/bge-micro-v2'\n",
    ")\n",
    "\n",
    "texts = [\n",
    "    \"\"\"\n",
    "Machine learning is a method of data analysis that automates analytical model building.\n",
    "\n",
    "It is a branch of artificial intelligence based on the idea that systems can learn from data,\n",
    "identify patterns and make decisions with minimal human intervention.\n",
    "\n",
    "Machine learning algorithms are trained on data sets that contain examples of the desired output. For example, a machine learning algorithm that is used to classify images might be trained on a data set that contains images of cats and dogs.\n",
    "Once an algorithm is trained, it can be used to make predictions on new data. For example, the machine learning algorithm that is used to classify images could be used to predict whether a new image contains a cat or a dog.\n",
    "\n",
    "Machine learning algorithms can be used to solve a wide variety of problems. Some common applications of machine learning include:\n",
    "\n",
    "Classification: Categorizing data into different groups. For example, a machine learning algorithm could be used to classify emails as spam or not spam.\n",
    "\n",
    "Regression: Predicting a continuous value. For example, a machine learning algorithm could be used to predict the price of a house.\n",
    "\n",
    "Clustering: Finding groups of similar data points. For example, a machine learning algorithm could be used to find groups of customers with similar buying habits.\n",
    "\n",
    "Anomaly detection: Finding data points that are different from the rest of the data. For example, a machine learning algorithm could be used to find fraudulent credit card transactions.\n",
    "\n",
    "Machine learning is a powerful tool that can be used to solve a wide variety of problems. As the amount of data available continues to grow, machine learning is likely to become even more important in the future.\n",
    "\"\"\",\n",
    "    \"\"\"\n",
    "Artificial intelligence (AI) is the simulation of human intelligence in machines\n",
    "that are programmed to think like humans and mimic their actions.\n",
    "\n",
    "The term may also be applied to any machine that exhibits traits associated with\n",
    "a human mind such as learning and problem-solving.\n",
    "\n",
    "AI research has been highly successful in developing effective techniques for solving a wide range of problems, from game playing to medical diagnosis.\n",
    "\n",
    "However, there is still a long way to go before AI can truly match the intelligence of humans. One of the main challenges is that human intelligence is incredibly complex and poorly understood.\n",
    "\n",
    "Despite the challenges, AI is a rapidly growing field with the potential to revolutionize many aspects of our lives. Some of the potential benefits of AI include:\n",
    "\n",
    "Increased productivity: AI can be used to automate tasks that are currently performed by humans, freeing up our time for more creative and fulfilling activities.\n",
    "\n",
    "Improved decision-making: AI can be used to make more informed decisions, based on a wider range of data than humans can typically access.\n",
    "\n",
    "Enhanced creativity: AI can be used to generate new ideas and solutions, beyond what humans can imagine on their own.\n",
    "Of course, there are also potential risks associated with AI, such as:\n",
    "\n",
    "Job displacement: As AI becomes more capable, it is possible that it will displace some human workers.\n",
    "\n",
    "Weaponization: AI could be used to develop new weapons that are more powerful and destructive than anything we have today.\n",
    "\n",
    "Loss of control: If AI becomes too powerful, we may lose control over it, with potentially disastrous consequences.\n",
    "\n",
    "It is important to weigh the potential benefits and risks of AI carefully as we continue to develop this technology. With careful planning and oversight, AI has the potential to make the world a better place. However, if we are not careful, it could also lead to serious problems.\n",
    "\"\"\",\n",
    "]\n",
    "\n",
    "metadata_list = [\n",
    "    {\n",
    "        \"title\": \"Introduction to Machine Learning\",\n",
    "        \"url\": \"https://example.com/introduction-to-machine-learning\",\n",
    "    },\n",
    "    {\n",
    "        \"title\": \"Introduction to Artificial Intelligence\",\n",
    "        \"url\": \"https://example.com/introduction-to-artificial-intelligence\",\n",
    "    },\n",
    "]\n",
    "\n",
    "memory.save(texts, metadata_list)\n",
    "\n",
    "query = \"What is the relationship between AI and machine learning?\"\n",
    "results = memory.search(query, top_n=3, unique=True)\n",
    "results\n",
    "\n",
    "# two results will be returned as unique param is set to True"
   ]
  }
 ],
 "metadata": {
  "kernelspec": {
   "display_name": "Python 3 (ipykernel)",
   "language": "python",
   "name": "python3"
  },
  "language_info": {
   "codemirror_mode": {
    "name": "ipython",
    "version": 3
   },
   "file_extension": ".py",
   "mimetype": "text/x-python",
   "name": "python",
   "nbconvert_exporter": "python",
   "pygments_lexer": "ipython3",
   "version": "3.8.10"
  }
 },
 "nbformat": 4,
 "nbformat_minor": 5
}
